{
  "nbformat": 4,
  "nbformat_minor": 0,
  "metadata": {
    "colab": {
      "name": "RedEnrique.ipynb",
      "provenance": [],
      "collapsed_sections": [],
      "mount_file_id": "14jE5ECmG6sN6KUzqW5sU4QXi_q381NrX",
      "authorship_tag": "ABX9TyOwRQIDJjypVNpziw7E6AES",
      "include_colab_link": true
    },
    "kernelspec": {
      "name": "python3",
      "display_name": "Python 3"
    }
  },
  "cells": [
    {
      "cell_type": "markdown",
      "metadata": {
        "id": "view-in-github",
        "colab_type": "text"
      },
      "source": [
        "<a href=\"https://colab.research.google.com/github/enrjorarr/ProyectoIA/blob/master/RedMaquina.ipynb\" target=\"_parent\"><img src=\"https://colab.research.google.com/assets/colab-badge.svg\" alt=\"Open In Colab\"/></a>"
      ]
    },
    {
      "cell_type": "code",
      "metadata": {
        "id": "VuK-dnd_QUbp",
        "colab_type": "code",
        "colab": {}
      },
      "source": [
        "import sys\n",
        "import os\n",
        "import tensorflow as tf\n",
        "from tensorflow.python.keras.preprocessing.image import ImageDataGenerator\n",
        "from tensorflow.python.keras import optimizers\n",
        "from tensorflow.python.keras.models import Sequential\n",
        "from tensorflow.python.keras.layers import Dropout, Flatten, Dense, Activation, LeakyReLU\n",
        "from tensorflow.python.keras.layers import Convolution2D, MaxPooling2D, AveragePooling2D\n",
        "from tensorflow.python.keras import backend as K"
      ],
      "execution_count": 0,
      "outputs": []
    },
    {
      "cell_type": "code",
      "metadata": {
        "id": "-F2Cz6QoR6BP",
        "colab_type": "code",
        "outputId": "6011b581-e573-4959-9af8-a2a9ce22e775",
        "colab": {
          "base_uri": "https://localhost:8080/",
          "height": 34
        }
      },
      "source": [
        "#Conexión con google drive\n",
        "\n",
        "from google.colab import drive\n",
        "drive.mount('/content/drive')\n",
        "#Rutas de paquetes de datos.\n",
        " \n",
        "train_path = '/content/drive/My Drive/ProyectoIA/Datos/train'\n",
        "test_path = '/content/drive/My Drive/ProyectoIA/Datos/test'\n",
        "val_path = '/content/drive/My Drive/ProyectoIA/Datos/val'"
      ],
      "execution_count": 10,
      "outputs": [
        {
          "output_type": "stream",
          "text": [
            "Drive already mounted at /content/drive; to attempt to forcibly remount, call drive.mount(\"/content/drive\", force_remount=True).\n"
          ],
          "name": "stdout"
        }
      ]
    },
    {
      "cell_type": "code",
      "metadata": {
        "id": "9rjX30mxRmzB",
        "colab_type": "code",
        "colab": {}
      },
      "source": [
        "#Datos\n",
        "\n",
        "epocas = 20\n",
        "altura, longitud = 150, 150\n",
        "batch_size = 353\n",
        "pasos = 34\n",
        "pasos_validacion = 9\n",
        "filtrosConv1 = 32\n",
        "filtrosConv2 = 64\n",
        "tamano_filtro1 = (3,3)\n",
        "tamano_filtro2 = (2,2)\n",
        "tamano_pool = (2,2)\n",
        "clases = 9\n",
        "lr = 0.005"
      ],
      "execution_count": 0,
      "outputs": []
    },
    {
      "cell_type": "code",
      "metadata": {
        "id": "mVDh3HjvXsem",
        "colab_type": "code",
        "colab": {}
      },
      "source": [
        "entrenamiento_datagen = ImageDataGenerator(\n",
        "    rescale = 1./255,\n",
        ")\n",
        "\n",
        "validacion_datagen = ImageDataGenerator(\n",
        "    rescale = 1./255\n",
        ")"
      ],
      "execution_count": 0,
      "outputs": []
    },
    {
      "cell_type": "code",
      "metadata": {
        "id": "HkMZ4yHkYzo-",
        "colab_type": "code",
        "outputId": "995b6a0e-404b-475e-f341-f57800d8c8f8",
        "colab": {
          "base_uri": "https://localhost:8080/",
          "height": 34
        }
      },
      "source": [
        "imagen_entrenamiento = entrenamiento_datagen.flow_from_directory(\n",
        "    train_path,\n",
        "    target_size = (altura, longitud),\n",
        "    batch_size = batch_size,\n",
        "    class_mode = 'categorical'\n",
        ")"
      ],
      "execution_count": 21,
      "outputs": [
        {
          "output_type": "stream",
          "text": [
            "Found 12002 images belonging to 9 classes.\n"
          ],
          "name": "stdout"
        }
      ]
    },
    {
      "cell_type": "code",
      "metadata": {
        "id": "0VeK38pPZGvA",
        "colab_type": "code",
        "outputId": "7449654d-4cf4-4b9d-ad77-0ae81bdb3137",
        "colab": {
          "base_uri": "https://localhost:8080/",
          "height": 34
        }
      },
      "source": [
        "imagen_validacion = validacion_datagen.flow_from_directory(\n",
        "    val_path,\n",
        "    target_size = (altura, longitud),\n",
        "    batch_size = batch_size,\n",
        "    class_mode = 'categorical'\n",
        ")"
      ],
      "execution_count": 22,
      "outputs": [
        {
          "output_type": "stream",
          "text": [
            "Found 3005 images belonging to 9 classes.\n"
          ],
          "name": "stdout"
        }
      ]
    },
    {
      "cell_type": "code",
      "metadata": {
        "id": "dVmRQZmHdlle",
        "colab_type": "code",
        "outputId": "b6adbb41-404c-4711-a196-2f102e9fec17",
        "colab": {
          "base_uri": "https://localhost:8080/",
          "height": 527
        }
      },
      "source": [
        "Adam = tf.keras.optimizers.Adam(\n",
        "    learning_rate=lr,\n",
        "    name='Adam'\n",
        ")\n",
        "\n",
        "cnn = Sequential()\n",
        "\n",
        "cnn.add(Convolution2D(filtrosConv1, tamano_filtro1, padding='same', input_shape = (altura, longitud, 3), activation='linear'))\n",
        "\n",
        "cnn.add(LeakyReLU(alpha=0.1))\n",
        "\n",
        "cnn.add(MaxPooling2D(pool_size=tamano_pool))\n",
        "\n",
        "cnn.add(Convolution2D(filtrosConv2, tamano_filtro2, padding='same', activation='linear'))\n",
        "\n",
        "cnn.add(LeakyReLU(alpha=0.1))\n",
        "\n",
        "cnn.add(MaxPooling2D(pool_size=tamano_pool))\n",
        "\n",
        "cnn.add(Flatten())\n",
        "\n",
        "cnn.add(Dense(128, activation='linear'))\n",
        "\n",
        "cnn.add(Dropout(0.5))\n",
        "\n",
        "cnn.add(LeakyReLU(alpha=0.1))\n",
        "\n",
        "cnn.add(Dense(clases, activation='softmax'))\n",
        "\n",
        "cnn.compile(loss = 'categorical_crossentropy', optimizer=Adam, metrics=['accuracy'])\n",
        "\n",
        "cnn.summary()\n"
      ],
      "execution_count": 23,
      "outputs": [
        {
          "output_type": "stream",
          "text": [
            "Model: \"sequential_2\"\n",
            "_________________________________________________________________\n",
            "Layer (type)                 Output Shape              Param #   \n",
            "=================================================================\n",
            "conv2d_4 (Conv2D)            (None, 150, 150, 32)      896       \n",
            "_________________________________________________________________\n",
            "leaky_re_lu_6 (LeakyReLU)    (None, 150, 150, 32)      0         \n",
            "_________________________________________________________________\n",
            "max_pooling2d_4 (MaxPooling2 (None, 75, 75, 32)        0         \n",
            "_________________________________________________________________\n",
            "conv2d_5 (Conv2D)            (None, 75, 75, 64)        8256      \n",
            "_________________________________________________________________\n",
            "leaky_re_lu_7 (LeakyReLU)    (None, 75, 75, 64)        0         \n",
            "_________________________________________________________________\n",
            "max_pooling2d_5 (MaxPooling2 (None, 37, 37, 64)        0         \n",
            "_________________________________________________________________\n",
            "flatten_2 (Flatten)          (None, 87616)             0         \n",
            "_________________________________________________________________\n",
            "dense_4 (Dense)              (None, 128)               11214976  \n",
            "_________________________________________________________________\n",
            "dropout_2 (Dropout)          (None, 128)               0         \n",
            "_________________________________________________________________\n",
            "leaky_re_lu_8 (LeakyReLU)    (None, 128)               0         \n",
            "_________________________________________________________________\n",
            "dense_5 (Dense)              (None, 9)                 1161      \n",
            "=================================================================\n",
            "Total params: 11,225,289\n",
            "Trainable params: 11,225,289\n",
            "Non-trainable params: 0\n",
            "_________________________________________________________________\n"
          ],
          "name": "stdout"
        }
      ]
    },
    {
      "cell_type": "code",
      "metadata": {
        "id": "WhQC3KQMhBPn",
        "colab_type": "code",
        "outputId": "3bfd9728-a842-4f0e-b8ec-d59acbd12a7a",
        "colab": {
          "base_uri": "https://localhost:8080/",
          "height": 697
        }
      },
      "source": [
        "cnn.fit(imagen_entrenamiento, steps_per_epoch=pasos, epochs=epocas, validation_data=imagen_validacion, validation_steps=pasos_validacion)\n",
        "\n",
        "cnn.save('/content/drive/My Drive/ProyectoIA/Modelos/modelo54.h5')\n",
        "cnn.save_weights('/content/drive/My Drive/ProyectoIA/Modelos/pesos54.h5')"
      ],
      "execution_count": 24,
      "outputs": [
        {
          "output_type": "stream",
          "text": [
            "Epoch 1/20\n",
            "34/34 [==============================] - 335s 10s/step - loss: 7.6447 - accuracy: 0.3880 - val_loss: 1.5554 - val_accuracy: 0.5271\n",
            "Epoch 2/20\n",
            "34/34 [==============================] - 334s 10s/step - loss: 1.6387 - accuracy: 0.5182 - val_loss: 1.4833 - val_accuracy: 0.5348\n",
            "Epoch 3/20\n",
            "34/34 [==============================] - 332s 10s/step - loss: 1.5341 - accuracy: 0.5267 - val_loss: 1.4141 - val_accuracy: 0.5381\n",
            "Epoch 4/20\n",
            "34/34 [==============================] - 335s 10s/step - loss: 1.4651 - accuracy: 0.5302 - val_loss: 1.3710 - val_accuracy: 0.5374\n",
            "Epoch 5/20\n",
            "34/34 [==============================] - 332s 10s/step - loss: 1.3856 - accuracy: 0.5439 - val_loss: 1.2781 - val_accuracy: 0.5534\n",
            "Epoch 6/20\n",
            "34/34 [==============================] - 334s 10s/step - loss: 1.2952 - accuracy: 0.5583 - val_loss: 1.2655 - val_accuracy: 0.5564\n",
            "Epoch 7/20\n",
            "34/34 [==============================] - 336s 10s/step - loss: 1.1869 - accuracy: 0.5907 - val_loss: 1.1935 - val_accuracy: 0.5744\n",
            "Epoch 8/20\n",
            "34/34 [==============================] - 333s 10s/step - loss: 1.0667 - accuracy: 0.6309 - val_loss: 1.2404 - val_accuracy: 0.5754\n",
            "Epoch 9/20\n",
            "34/34 [==============================] - 333s 10s/step - loss: 0.9177 - accuracy: 0.6860 - val_loss: 1.1295 - val_accuracy: 0.5953\n",
            "Epoch 10/20\n",
            "34/34 [==============================] - 333s 10s/step - loss: 0.7020 - accuracy: 0.7600 - val_loss: 1.2561 - val_accuracy: 0.5923\n",
            "Epoch 11/20\n",
            "34/34 [==============================] - 332s 10s/step - loss: 0.5103 - accuracy: 0.8263 - val_loss: 1.2169 - val_accuracy: 0.5950\n",
            "Epoch 12/20\n",
            "34/34 [==============================] - 332s 10s/step - loss: 0.3865 - accuracy: 0.8703 - val_loss: 1.2488 - val_accuracy: 0.5727\n",
            "Epoch 13/20\n",
            "34/34 [==============================] - 333s 10s/step - loss: 0.2875 - accuracy: 0.9083 - val_loss: 1.4453 - val_accuracy: 0.5870\n",
            "Epoch 14/20\n",
            "34/34 [==============================] - 333s 10s/step - loss: 0.1867 - accuracy: 0.9426 - val_loss: 1.5251 - val_accuracy: 0.5917\n",
            "Epoch 15/20\n",
            "34/34 [==============================] - 334s 10s/step - loss: 0.1527 - accuracy: 0.9524 - val_loss: 1.5350 - val_accuracy: 0.5840\n",
            "Epoch 16/20\n",
            "34/34 [==============================] - 334s 10s/step - loss: 0.1224 - accuracy: 0.9631 - val_loss: 1.6097 - val_accuracy: 0.5774\n",
            "Epoch 17/20\n",
            "34/34 [==============================] - 331s 10s/step - loss: 0.0904 - accuracy: 0.9728 - val_loss: 1.9947 - val_accuracy: 0.5897\n",
            "Epoch 18/20\n",
            "34/34 [==============================] - 333s 10s/step - loss: 0.0680 - accuracy: 0.9799 - val_loss: 1.9365 - val_accuracy: 0.5874\n",
            "Epoch 19/20\n",
            "34/34 [==============================] - 334s 10s/step - loss: 0.0541 - accuracy: 0.9854 - val_loss: 1.9422 - val_accuracy: 0.5807\n",
            "Epoch 20/20\n",
            "34/34 [==============================] - 335s 10s/step - loss: 0.0464 - accuracy: 0.9873 - val_loss: 2.0347 - val_accuracy: 0.5880\n"
          ],
          "name": "stdout"
        }
      ]
    }
  ]
}