{
  "nbformat": 4,
  "nbformat_minor": 0,
  "metadata": {
    "colab": {
      "name": "RedEnrique.ipynb",
      "provenance": [],
      "collapsed_sections": [],
      "mount_file_id": "https://github.com/enrjorarr/ProyectoIA/blob/master/RedEnrique2.ipynb",
      "authorship_tag": "ABX9TyM6bPlLGNgTr87Xj5NUcRJK",
      "include_colab_link": true
    },
    "kernelspec": {
      "name": "python3",
      "display_name": "Python 3"
    }
  },
  "cells": [
    {
      "cell_type": "markdown",
      "metadata": {
        "id": "view-in-github",
        "colab_type": "text"
      },
      "source": [
        "<a href=\"https://colab.research.google.com/github/enrjorarr/ProyectoIA/blob/master/RedEnrique3.ipynb\" target=\"_parent\"><img src=\"https://colab.research.google.com/assets/colab-badge.svg\" alt=\"Open In Colab\"/></a>"
      ]
    },
    {
      "cell_type": "code",
      "metadata": {
        "id": "VuK-dnd_QUbp",
        "colab_type": "code",
        "colab": {}
      },
      "source": [
        "import sys\n",
        "import os\n",
        "import tensorflow as tf\n",
        "from tensorflow.python.keras.preprocessing.image import ImageDataGenerator\n",
        "from tensorflow.python.keras import optimizers\n",
        "from tensorflow.python.keras.models import Sequential\n",
        "from tensorflow.python.keras.layers import Dropout, Flatten, Dense, Activation, LeakyReLU\n",
        "from tensorflow.python.keras.layers import Convolution2D, MaxPooling2D, AveragePooling2D\n",
        "from tensorflow.python.keras import backend as K"
      ],
      "execution_count": 0,
      "outputs": []
    },
    {
      "cell_type": "code",
      "metadata": {
        "id": "-F2Cz6QoR6BP",
        "colab_type": "code",
        "outputId": "8fa93416-767c-4aa9-eae2-257660d4fdfd",
        "colab": {
          "base_uri": "https://localhost:8080/",
          "height": 34
        }
      },
      "source": [
        "#Conexión con google drive\n",
        "\n",
        "from google.colab import drive\n",
        "drive.mount('/content/drive')\n",
        "#Rutas de paquetes de datos.\n",
        " \n",
        "train_path = '/content/drive/My Drive/ProyectoIA/Datos/train'\n",
        "test_path = '/content/drive/My Drive/ProyectoIA/Datos/test'\n",
        "val_path = '/content/drive/My Drive/ProyectoIA/Datos/val'"
      ],
      "execution_count": 3,
      "outputs": [
        {
          "output_type": "stream",
          "text": [
            "Drive already mounted at /content/drive; to attempt to forcibly remount, call drive.mount(\"/content/drive\", force_remount=True).\n"
          ],
          "name": "stdout"
        }
      ]
    },
    {
      "cell_type": "code",
      "metadata": {
        "id": "9rjX30mxRmzB",
        "colab_type": "code",
        "colab": {}
      },
      "source": [
        "#Datos\n",
        "\n",
        "epocas = 12\n",
        "altura, longitud = 256, 256\n",
        "batch_size = 353\n",
        "pasos = 34\n",
        "pasos_validacion = 9\n",
        "filtrosConv1 = 32\n",
        "filtrosConv2 = 64\n",
        "filtrosConv3 = 128\n",
        "tamano_filtro1 = (3,3)\n",
        "tamano_filtro2 = (2,2)\n",
        "tamano_pool = (2,2)\n",
        "clases = 9\n",
        "lr = 0.005"
      ],
      "execution_count": 0,
      "outputs": []
    },
    {
      "cell_type": "code",
      "metadata": {
        "id": "mVDh3HjvXsem",
        "colab_type": "code",
        "colab": {}
      },
      "source": [
        "entrenamiento_datagen = ImageDataGenerator(\n",
        "    rescale = 1./255,\n",
        ")\n",
        "\n",
        "validacion_datagen = ImageDataGenerator(\n",
        "    rescale = 1./255\n",
        ")"
      ],
      "execution_count": 0,
      "outputs": []
    },
    {
      "cell_type": "code",
      "metadata": {
        "id": "HkMZ4yHkYzo-",
        "colab_type": "code",
        "outputId": "6d52a944-60dd-445b-c169-758060e2e625",
        "colab": {
          "base_uri": "https://localhost:8080/",
          "height": 34
        }
      },
      "source": [
        "imagen_entrenamiento = entrenamiento_datagen.flow_from_directory(\n",
        "    train_path,\n",
        "    target_size = (altura, longitud),\n",
        "    batch_size = batch_size,\n",
        "    class_mode = 'categorical'\n",
        ")"
      ],
      "execution_count": 6,
      "outputs": [
        {
          "output_type": "stream",
          "text": [
            "Found 12002 images belonging to 9 classes.\n"
          ],
          "name": "stdout"
        }
      ]
    },
    {
      "cell_type": "code",
      "metadata": {
        "id": "0VeK38pPZGvA",
        "colab_type": "code",
        "outputId": "2b9e7cac-1ead-43a4-d7dc-4003ec88fb56",
        "colab": {
          "base_uri": "https://localhost:8080/",
          "height": 34
        }
      },
      "source": [
        "imagen_validacion = validacion_datagen.flow_from_directory(\n",
        "    val_path,\n",
        "    target_size = (altura, longitud),\n",
        "    batch_size = batch_size,\n",
        "    class_mode = 'categorical'\n",
        ")"
      ],
      "execution_count": 7,
      "outputs": [
        {
          "output_type": "stream",
          "text": [
            "Found 3005 images belonging to 9 classes.\n"
          ],
          "name": "stdout"
        }
      ]
    },
    {
      "cell_type": "code",
      "metadata": {
        "id": "dVmRQZmHdlle",
        "colab_type": "code",
        "outputId": "f159c75e-7d29-4f33-ed75-8a8a7f2b8f4d",
        "colab": {
          "base_uri": "https://localhost:8080/",
          "height": 595
        }
      },
      "source": [
        "Adam = tf.keras.optimizers.Adam(\n",
        "    learning_rate=lr,\n",
        "    name='Adam'\n",
        ")\n",
        "\n",
        "cnn = Sequential()\n",
        "\n",
        "cnn.add(Convolution2D(filtrosConv1, tamano_filtro1, padding='same', input_shape = (altura, longitud, 3), activation='relu'))\n",
        "\n",
        "cnn.add(LeakyReLU(alpha=0.1))\n",
        "\n",
        "cnn.add(MaxPooling2D(pool_size=tamano_pool))\n",
        "\n",
        "cnn.add(Convolution2D(filtrosConv2, tamano_filtro2, padding='same', activation='relu'))\n",
        "\n",
        "cnn.add(LeakyReLU(alpha=0.1))\n",
        "\n",
        "cnn.add(MaxPooling2D(pool_size=tamano_pool))\n",
        "\n",
        "cnn.add(Convolution2D(filtrosConv3, tamano_filtro2, padding='same', activation='relu'))\n",
        "\n",
        "cnn.add(LeakyReLU(alpha=0.1))\n",
        "\n",
        "cnn.add(MaxPooling2D(pool_size=tamano_pool))\n",
        "\n",
        "cnn.add(Flatten())\n",
        "\n",
        "cnn.add(Dense(128, activation='relu'))\n",
        "\n",
        "cnn.add(Dropout(0.5))\n",
        "\n",
        "cnn.add(Dense(clases, activation='softmax'))\n",
        "\n",
        "cnn.compile(loss = 'categorical_crossentropy', optimizer=Adam, metrics=['accuracy'])\n",
        "\n",
        "cnn.summary()\n"
      ],
      "execution_count": 8,
      "outputs": [
        {
          "output_type": "stream",
          "text": [
            "Model: \"sequential\"\n",
            "_________________________________________________________________\n",
            "Layer (type)                 Output Shape              Param #   \n",
            "=================================================================\n",
            "conv2d (Conv2D)              (None, 256, 256, 32)      896       \n",
            "_________________________________________________________________\n",
            "leaky_re_lu (LeakyReLU)      (None, 256, 256, 32)      0         \n",
            "_________________________________________________________________\n",
            "max_pooling2d (MaxPooling2D) (None, 128, 128, 32)      0         \n",
            "_________________________________________________________________\n",
            "conv2d_1 (Conv2D)            (None, 128, 128, 64)      8256      \n",
            "_________________________________________________________________\n",
            "leaky_re_lu_1 (LeakyReLU)    (None, 128, 128, 64)      0         \n",
            "_________________________________________________________________\n",
            "max_pooling2d_1 (MaxPooling2 (None, 64, 64, 64)        0         \n",
            "_________________________________________________________________\n",
            "conv2d_2 (Conv2D)            (None, 64, 64, 128)       32896     \n",
            "_________________________________________________________________\n",
            "leaky_re_lu_2 (LeakyReLU)    (None, 64, 64, 128)       0         \n",
            "_________________________________________________________________\n",
            "max_pooling2d_2 (MaxPooling2 (None, 32, 32, 128)       0         \n",
            "_________________________________________________________________\n",
            "flatten (Flatten)            (None, 131072)            0         \n",
            "_________________________________________________________________\n",
            "dense (Dense)                (None, 128)               16777344  \n",
            "_________________________________________________________________\n",
            "dropout (Dropout)            (None, 128)               0         \n",
            "_________________________________________________________________\n",
            "dense_1 (Dense)              (None, 9)                 1161      \n",
            "=================================================================\n",
            "Total params: 16,820,553\n",
            "Trainable params: 16,820,553\n",
            "Non-trainable params: 0\n",
            "_________________________________________________________________\n"
          ],
          "name": "stdout"
        }
      ]
    },
    {
      "cell_type": "code",
      "metadata": {
        "id": "WhQC3KQMhBPn",
        "colab_type": "code",
        "outputId": "3613cf57-ef50-4fdc-dd9e-83dd03ec2e1c",
        "colab": {
          "base_uri": "https://localhost:8080/",
          "height": 34
        }
      },
      "source": [
        "cnn.fit(imagen_entrenamiento, steps_per_epoch=pasos, epochs=epocas, validation_data=imagen_validacion, validation_steps=pasos_validacion)\n",
        "\n",
        "cnn.save('/content/drive/My Drive/ProyectoIA/Modelos/modelo54.h5')\n",
        "cnn.save_weights('/content/drive/My Drive/ProyectoIA/Modelos/pesos54.h5')"
      ],
      "execution_count": 0,
      "outputs": [
        {
          "output_type": "stream",
          "text": [
            "Epoch 1/12\n"
          ],
          "name": "stdout"
        }
      ]
    }
  ]
}