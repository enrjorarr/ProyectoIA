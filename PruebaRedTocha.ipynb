{
  "nbformat": 4,
  "nbformat_minor": 0,
  "metadata": {
    "colab": {
      "name": "PruebaRedTocha.ipynb",
      "provenance": [],
      "authorship_tag": "ABX9TyN+CoKeQCC2L4rHv8VOO6s5",
      "include_colab_link": true
    },
    "kernelspec": {
      "name": "python3",
      "display_name": "Python 3"
    }
  },
  "cells": [
    {
      "cell_type": "markdown",
      "metadata": {
        "id": "view-in-github",
        "colab_type": "text"
      },
      "source": [
        "<a href=\"https://colab.research.google.com/github/enrjorarr/ProyectoIA/blob/master/PruebaRedTocha.ipynb\" target=\"_parent\"><img src=\"https://colab.research.google.com/assets/colab-badge.svg\" alt=\"Open In Colab\"/></a>"
      ]
    },
    {
      "cell_type": "code",
      "metadata": {
        "id": "C4F_JLBtGwW_",
        "colab_type": "code",
        "colab": {}
      },
      "source": [
        "import numpy as np\n",
        "from keras.preprocessing.image import load_img, img_to_array\n",
        "from keras.models import load_model\n",
        "import tensorflow as tf \n",
        "from tensorflow import keras"
      ],
      "execution_count": 0,
      "outputs": []
    },
    {
      "cell_type": "code",
      "metadata": {
        "id": "GsbKS14pITuM",
        "colab_type": "code",
        "outputId": "6ad6cd34-4199-489d-a4bb-fff1d34d7d30",
        "colab": {
          "base_uri": "https://localhost:8080/",
          "height": 54
        }
      },
      "source": [
        "#Conexión con google drive\n",
        "\n",
        "from google.colab import drive\n",
        "drive.mount('/content/drive')\n",
        "#Rutas de paquetes de datos.\n",
        " \n",
        "train_path = '/content/drive/My Drive/ProyectoIA/Datos/train'\n",
        "test_path = '/content/drive/My Drive/ProyectoIA/Datos/test'\n",
        "val_path = '/content/drive/My Drive/ProyectoIA/Datos/val'"
      ],
      "execution_count": 0,
      "outputs": [
        {
          "output_type": "stream",
          "text": [
            "Drive already mounted at /content/drive; to attempt to forcibly remount, call drive.mount(\"/content/drive\", force_remount=True).\n"
          ],
          "name": "stdout"
        }
      ]
    },
    {
      "cell_type": "code",
      "metadata": {
        "id": "jWU2U-kFH2Di",
        "colab_type": "code",
        "colab": {}
      },
      "source": [
        "longitud, altura = 100, 100\n",
        "modelo = '/content/drive/My Drive/ProyectoIA/Modelos/modelo2.h5'\n",
        "pesos = '/content/drive/My Drive/ProyectoIA/Modelos/pesos2.h5'\n",
        "classifierLoad = tf.keras.models.load_model(modelo)\n",
        "classifierLoad.load_weights(pesos)\n"
      ],
      "execution_count": 0,
      "outputs": []
    },
    {
      "cell_type": "code",
      "metadata": {
        "id": "YxJ7USUDITVA",
        "colab_type": "code",
        "colab": {}
      },
      "source": [
        "def predict(file):\n",
        "  x=load_img(file, target_size=(longitud, altura))\n",
        "  x=img_to_array(x)\n",
        "  x=np.expand_dims(x, axis=0)\n",
        "  tabla = classifierLoad.predict(x) #[[1,0,0]]\n",
        "  print(tabla)\n",
        "  result =  tabla[0] #Solo queremos la primera dimensión\n",
        "  respuesta = np.argmax(result)\n",
        "  if respuesta == 0:\n",
        "    print('0')\n",
        "  elif respuesta == 1:\n",
        "    print('1')\n",
        "  elif respuesta == 2:\n",
        "    print('2')\n",
        "  elif respuesta == 3:\n",
        "    print('3')\n",
        "  elif respuesta == 4:\n",
        "    print('4')\n",
        "  elif respuesta == 5:\n",
        "    print('5')\n",
        "  elif respuesta == 6:\n",
        "    print('6')\n",
        "  elif respuesta == 7:\n",
        "    print('7')\n",
        "  elif respuesta == 8:\n",
        "    print('8')\n",
        "  return respuesta"
      ],
      "execution_count": 0,
      "outputs": []
    },
    {
      "cell_type": "code",
      "metadata": {
        "id": "-f60M04GKO6P",
        "colab_type": "code",
        "outputId": "c26fd216-79d3-44d2-9805-9b27d8b5fa42",
        "colab": {
          "base_uri": "https://localhost:8080/",
          "height": 102
        }
      },
      "source": [
        "predict('/content/drive/My Drive/ProyectoIA/Datos/train/0/20170210-131804-0.jpg')"
      ],
      "execution_count": 0,
      "outputs": [
        {
          "output_type": "stream",
          "text": [
            "[[9.52171718e-13 6.14014013e-08 3.52770869e-19 5.39457708e-15\n",
            "  9.64894370e-32 7.76481174e-04 8.95187795e-01 7.21485371e-13\n",
            "  1.04035646e-01]]\n",
            "6\n"
          ],
          "name": "stdout"
        },
        {
          "output_type": "execute_result",
          "data": {
            "text/plain": [
              "6"
            ]
          },
          "metadata": {
            "tags": []
          },
          "execution_count": 47
        }
      ]
    }
  ]
}