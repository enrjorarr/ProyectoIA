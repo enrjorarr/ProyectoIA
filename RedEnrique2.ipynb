{
  "nbformat": 4,
  "nbformat_minor": 0,
  "metadata": {
    "colab": {
      "name": "RedEnrique.ipynb",
      "provenance": [],
      "collapsed_sections": [],
      "mount_file_id": "14jE5ECmG6sN6KUzqW5sU4QXi_q381NrX",
      "authorship_tag": "ABX9TyOFsGwEPJ4uIZpYEwNaiG7I",
      "include_colab_link": true
    },
    "kernelspec": {
      "name": "python3",
      "display_name": "Python 3"
    }
  },
  "cells": [
    {
      "cell_type": "markdown",
      "metadata": {
        "id": "view-in-github",
        "colab_type": "text"
      },
      "source": [
        "<a href=\"https://colab.research.google.com/github/enrjorarr/ProyectoIA/blob/master/RedEnrique2.ipynb\" target=\"_parent\"><img src=\"https://colab.research.google.com/assets/colab-badge.svg\" alt=\"Open In Colab\"/></a>"
      ]
    },
    {
      "cell_type": "code",
      "metadata": {
        "id": "VuK-dnd_QUbp",
        "colab_type": "code",
        "colab": {}
      },
      "source": [
        "import sys\n",
        "import os\n",
        "import tensorflow as tf\n",
        "from tensorflow.python.keras.preprocessing.image import ImageDataGenerator\n",
        "from tensorflow.python.keras import optimizers\n",
        "from tensorflow.python.keras.models import Sequential\n",
        "from tensorflow.python.keras.layers import Dropout, Flatten, Dense, Activation\n",
        "from tensorflow.python.keras.layers import Convolution2D, MaxPooling2D, AveragePooling2D\n",
        "from tensorflow.python.keras import backend as K"
      ],
      "execution_count": 0,
      "outputs": []
    },
    {
      "cell_type": "code",
      "metadata": {
        "id": "-F2Cz6QoR6BP",
        "colab_type": "code",
        "colab": {
          "base_uri": "https://localhost:8080/",
          "height": 34
        },
        "outputId": "0cf284b1-12b3-4b8a-e56a-5e1c09e93ced"
      },
      "source": [
        "#Conexión con google drive\n",
        "\n",
        "from google.colab import drive\n",
        "drive.mount('/content/drive')\n",
        "#Rutas de paquetes de datos.\n",
        " \n",
        "train_path = '/content/drive/My Drive/ProyectoIA/Datos/train'\n",
        "test_path = '/content/drive/My Drive/ProyectoIA/Datos/test'\n",
        "val_path = '/content/drive/My Drive/ProyectoIA/Datos/val'"
      ],
      "execution_count": 2,
      "outputs": [
        {
          "output_type": "stream",
          "text": [
            "Drive already mounted at /content/drive; to attempt to forcibly remount, call drive.mount(\"/content/drive\", force_remount=True).\n"
          ],
          "name": "stdout"
        }
      ]
    },
    {
      "cell_type": "code",
      "metadata": {
        "id": "9rjX30mxRmzB",
        "colab_type": "code",
        "colab": {}
      },
      "source": [
        "#Datos\n",
        "\n",
        "epocas = 6\n",
        "altura, longitud = 256, 256\n",
        "batch_size = 353\n",
        "pasos = 34\n",
        "pasos_validacion = 88\n",
        "filtrosConv1 = 32\n",
        "filtrosConv2 = 64\n",
        "tamano_filtro1 = (3,3)\n",
        "tamano_filtro2 = (2,2)\n",
        "tamano_pool = (2,2)\n",
        "clases = 9\n",
        "lr = 0.0075"
      ],
      "execution_count": 0,
      "outputs": []
    },
    {
      "cell_type": "code",
      "metadata": {
        "id": "mVDh3HjvXsem",
        "colab_type": "code",
        "colab": {}
      },
      "source": [
        "entrenamiento_datagen = ImageDataGenerator(\n",
        "    rescale = 1./255,\n",
        ")\n",
        "\n",
        "validacion_datagen = ImageDataGenerator(\n",
        "    rescale = 1./255\n",
        ")"
      ],
      "execution_count": 0,
      "outputs": []
    },
    {
      "cell_type": "code",
      "metadata": {
        "id": "HkMZ4yHkYzo-",
        "colab_type": "code",
        "colab": {
          "base_uri": "https://localhost:8080/",
          "height": 34
        },
        "outputId": "fe88321c-fcba-4fb6-de5d-529c12b7a1e5"
      },
      "source": [
        "imagen_entrenamiento = entrenamiento_datagen.flow_from_directory(\n",
        "    train_path,\n",
        "    target_size = (altura, longitud),\n",
        "    batch_size = batch_size,\n",
        "    class_mode = 'categorical'\n",
        ")"
      ],
      "execution_count": 5,
      "outputs": [
        {
          "output_type": "stream",
          "text": [
            "Found 12002 images belonging to 9 classes.\n"
          ],
          "name": "stdout"
        }
      ]
    },
    {
      "cell_type": "code",
      "metadata": {
        "id": "0VeK38pPZGvA",
        "colab_type": "code",
        "colab": {
          "base_uri": "https://localhost:8080/",
          "height": 34
        },
        "outputId": "428c70cc-ee3a-440a-9614-5cf6ea860501"
      },
      "source": [
        "imagen_validacion = validacion_datagen.flow_from_directory(\n",
        "    val_path,\n",
        "    target_size = (altura, longitud),\n",
        "    batch_size = batch_size,\n",
        "    class_mode = 'categorical'\n",
        ")"
      ],
      "execution_count": 6,
      "outputs": [
        {
          "output_type": "stream",
          "text": [
            "Found 3005 images belonging to 9 classes.\n"
          ],
          "name": "stdout"
        }
      ]
    },
    {
      "cell_type": "code",
      "metadata": {
        "id": "dVmRQZmHdlle",
        "colab_type": "code",
        "colab": {
          "base_uri": "https://localhost:8080/",
          "height": 425
        },
        "outputId": "5f8def17-92ab-46b6-d3fa-f397028b4a60"
      },
      "source": [
        "Adam = tf.keras.optimizers.Adam(\n",
        "    learning_rate=lr,\n",
        "    name='Adam'\n",
        ")\n",
        "\n",
        "cnn = Sequential()\n",
        "\n",
        "cnn.add(Convolution2D(filtrosConv1, tamano_filtro1, padding='same', input_shape = (altura, longitud, 3), activation='relu'))\n",
        "\n",
        "cnn.add(MaxPooling2D(pool_size=tamano_pool))\n",
        "\n",
        "cnn.add(Convolution2D(filtrosConv2, tamano_filtro2, padding='same', activation='relu'))\n",
        "\n",
        "cnn.add(AveragePooling2D(pool_size=tamano_pool))\n",
        "\n",
        "cnn.add(Flatten())\n",
        "\n",
        "cnn.add(Dense(300, activation='relu'))\n",
        "\n",
        "cnn.add(Dropout(0.8))\n",
        "\n",
        "cnn.add(Dense(clases, activation='softmax'))\n",
        "\n",
        "cnn.compile(loss = 'categorical_crossentropy', optimizer=Adam, metrics=['accuracy'])\n",
        "\n",
        "cnn.summary()\n"
      ],
      "execution_count": 7,
      "outputs": [
        {
          "output_type": "stream",
          "text": [
            "Model: \"sequential\"\n",
            "_________________________________________________________________\n",
            "Layer (type)                 Output Shape              Param #   \n",
            "=================================================================\n",
            "conv2d (Conv2D)              (None, 256, 256, 32)      896       \n",
            "_________________________________________________________________\n",
            "max_pooling2d (MaxPooling2D) (None, 128, 128, 32)      0         \n",
            "_________________________________________________________________\n",
            "conv2d_1 (Conv2D)            (None, 128, 128, 64)      8256      \n",
            "_________________________________________________________________\n",
            "average_pooling2d (AveragePo (None, 64, 64, 64)        0         \n",
            "_________________________________________________________________\n",
            "flatten (Flatten)            (None, 262144)            0         \n",
            "_________________________________________________________________\n",
            "dense (Dense)                (None, 300)               78643500  \n",
            "_________________________________________________________________\n",
            "dropout (Dropout)            (None, 300)               0         \n",
            "_________________________________________________________________\n",
            "dense_1 (Dense)              (None, 9)                 2709      \n",
            "=================================================================\n",
            "Total params: 78,655,361\n",
            "Trainable params: 78,655,361\n",
            "Non-trainable params: 0\n",
            "_________________________________________________________________\n"
          ],
          "name": "stdout"
        }
      ]
    },
    {
      "cell_type": "code",
      "metadata": {
        "id": "WhQC3KQMhBPn",
        "colab_type": "code",
        "colab": {
          "base_uri": "https://localhost:8080/",
          "height": 34
        },
        "outputId": "468b48ac-cd26-400d-c94c-6bc13203669b"
      },
      "source": [
        "cnn.fit(imagen_entrenamiento, steps_per_epoch=pasos, epochs=epocas, validation_data=imagen_validacion, validation_steps=pasos_validacion)\n",
        "\n",
        "cnn.save('/content/drive/My Drive/ProyectoIA/Modelos/modelo2.h5')\n",
        "cnn.save_weights('/content/drive/My Drive/ProyectoIA/Modelos/pesos2.h5')"
      ],
      "execution_count": 0,
      "outputs": [
        {
          "output_type": "stream",
          "text": [
            "Epoch 1/6\n"
          ],
          "name": "stdout"
        }
      ]
    }
  ]
}